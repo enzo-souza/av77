{
 "cells": [
  {
   "cell_type": "code",
   "execution_count": 8,
   "id": "3558056f",
   "metadata": {},
   "outputs": [
    {
     "name": "stdout",
     "output_type": "stream",
     "text": [
      "Trapezio:\n",
      " [[0.91677063 0.         0.         0.         0.         0.        ]\n",
      " [0.72853647 0.         0.         0.         0.         0.        ]\n",
      " [0.72618391 0.         0.         0.         0.         0.        ]\n",
      " [0.72793573 0.         0.         0.         0.         0.        ]\n",
      " [0.72838399 0.         0.         0.         0.         0.        ]\n",
      " [0.72849644 0.         0.         0.         0.         0.        ]] \n",
      "\n",
      "\n",
      "Romberg:\n",
      " [[0.91677063 0.         0.         0.         0.         0.        ]\n",
      " [0.72853647 0.66579175 0.         0.         0.         0.        ]\n",
      " [0.72618391 0.72539972 0.72937358 0.         0.         0.        ]\n",
      " [0.72793573 0.72851968 0.72872767 0.72871742 0.         0.        ]\n",
      " [0.72838399 0.72853341 0.72853432 0.72853125 0.72853052 0.        ]\n",
      " [0.72849644 0.72853392 0.72853395 0.72853395 0.72853396 0.72853396]] \n",
      "\n",
      "\n",
      "Romberg recursivo:\n",
      " 0.7285339606825334\n",
      "\n",
      "\n",
      "Diferenca:\n",
      " -3.752417001356978e-05\n"
     ]
    }
   ],
   "source": [
    "import numpy as np\n",
    "from numpy import *\n",
    "\n",
    "\n",
    "# Definindo a funcao f(x)-------------------------------------------------\n",
    "def f(x):\n",
    "    return np.cos(x) / (1 + x**2)\n",
    "\n",
    "# Definindo funcao  para executar o metodo do trapezoide------------------\n",
    "def trapezoide(a,b,n):\n",
    "\th=(b-a)/n\n",
    "\ts=0\n",
    "\tfor i in range(n-1):\n",
    "\t\ts+=f(a+h*(i+1))\n",
    "\treturn h/2*(f(a)+2*s+f(b))\n",
    "\n",
    "# Definindo funcao  para executar o metodo de Romberg---------------------\n",
    "def romberg(k,j,a,b):\n",
    "\tif k == 1:\n",
    "\t\treturn trapezoide(a,b,2**(j-1))\n",
    "\telse:\n",
    "\t\treturn (4**(k-1)*romberg(k-1,j+1,a,b)-romberg(k-1,j,a,b))/(4**(k-1)-1)\n",
    "\n",
    "\n",
    "# Execucao e comparacao dos resultados------------------------------------\n",
    "ordem = 6\n",
    "rom = zeros((ordem,ordem))\n",
    "\n",
    "# Metodo do trapezio------------------------------------------------------\n",
    "for i in range(0,ordem):\n",
    "\trom[i,0] = trapezoide(0,2,2**i)\n",
    "\n",
    "print(\"Trapezio:\\n\", rom, \"\\n\\n\")\n",
    "\n",
    "# Metodo de Romberg de maneira analitica----------------------------------\n",
    "for i in arange(1,ordem):\n",
    "\tfor j in arange(i,ordem):\n",
    "\t\trom[j,i] = rom[j,i-1]+(rom[j,i-1]-rom[j-1,i-1])/(4**i-1)\n",
    "\n",
    "print(\"Romberg:\\n\",rom, \"\\n\\n\")\n",
    "\n",
    "# Metodo de Romberg de maneira recursiva----------------------------------\n",
    "r=romberg(ordem,1,0,2)\n",
    "print(\"Romberg recursivo:\\n\", r)  \n",
    "\n",
    "print(\"\\n\\nDiferenca:\\n\", (rom[ordem-1,0]-r))"
   ]
  }
 ],
 "metadata": {
  "kernelspec": {
   "display_name": "Python 3",
   "language": "python",
   "name": "python3"
  },
  "language_info": {
   "codemirror_mode": {
    "name": "ipython",
    "version": 3
   },
   "file_extension": ".py",
   "mimetype": "text/x-python",
   "name": "python",
   "nbconvert_exporter": "python",
   "pygments_lexer": "ipython3",
   "version": "3.12.3"
  }
 },
 "nbformat": 4,
 "nbformat_minor": 5
}
